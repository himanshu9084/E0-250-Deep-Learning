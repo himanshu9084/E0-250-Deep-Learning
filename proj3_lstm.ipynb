{
  "nbformat": 4,
  "nbformat_minor": 0,
  "metadata": {
    "colab": {
      "name": "proj3_lstm.ipynb",
      "provenance": [],
      "collapsed_sections": []
    },
    "kernelspec": {
      "name": "python3",
      "display_name": "Python 3"
    }
  },
  "cells": [
    {
      "cell_type": "code",
      "metadata": {
        "id": "2jJbjSfeLh4L",
        "colab_type": "code",
        "outputId": "7c4101c0-5359-4416-a810-142b5470d839",
        "colab": {
          "base_uri": "https://localhost:8080/",
          "height": 237
        }
      },
      "source": [
        "from keras.models import Sequential\n",
        "from keras.callbacks import ReduceLROnPlateau,EarlyStopping\n",
        "from keras.layers import Dense,Activation,Dropout,Flatten,LSTM,Input,Bidirectional\n",
        "from keras.optimizers import RMSprop,SGD,Adam\n",
        "from keras.utils import to_categorical\n",
        "from keras.layers.embeddings import Embedding\n",
        "from keras.layers.normalization import BatchNormalization\n",
        "from keras.layers.merge import concatenate\n",
        "from keras.models import load_model\n",
        "from keras.models import Model\n",
        "from nltk.corpus import stopwords\n",
        "from nltk.tokenize import word_tokenize\n",
        "from nltk.stem import PorterStemmer\n",
        "from keras.preprocessing.text import Tokenizer\n",
        "from keras.preprocessing.sequence import pad_sequences\n",
        "import matplotlib.pyplot as plt\n",
        "import pickle\n",
        "import numpy as np\n",
        "import re\n",
        "import nltk\n",
        "\n",
        "\n",
        "nltk.download('stopwords')\n",
        "nltk.download('punkt')\n",
        "!pip install jsonlines\n",
        "\n",
        "\n",
        "import jsonlines\n",
        "\n",
        "stop_words = set(stopwords.words('english'))\n",
        "pst=PorterStemmer()"
      ],
      "execution_count": 0,
      "outputs": [
        {
          "output_type": "stream",
          "text": [
            "Using TensorFlow backend.\n"
          ],
          "name": "stderr"
        },
        {
          "output_type": "display_data",
          "data": {
            "text/html": [
              "<p style=\"color: red;\">\n",
              "The default version of TensorFlow in Colab will switch to TensorFlow 2.x on the 27th of March, 2020.<br>\n",
              "We recommend you <a href=\"https://www.tensorflow.org/guide/migrate\" target=\"_blank\">upgrade</a> now\n",
              "or ensure your notebook will continue to use TensorFlow 1.x via the <code>%tensorflow_version 1.x</code> magic:\n",
              "<a href=\"https://colab.research.google.com/notebooks/tensorflow_version.ipynb\" target=\"_blank\">more info</a>.</p>\n"
            ],
            "text/plain": [
              "<IPython.core.display.HTML object>"
            ]
          },
          "metadata": {
            "tags": []
          }
        },
        {
          "output_type": "stream",
          "text": [
            "[nltk_data] Downloading package stopwords to /root/nltk_data...\n",
            "[nltk_data]   Unzipping corpora/stopwords.zip.\n",
            "[nltk_data] Downloading package punkt to /root/nltk_data...\n",
            "[nltk_data]   Unzipping tokenizers/punkt.zip.\n",
            "Collecting jsonlines\n",
            "  Downloading https://files.pythonhosted.org/packages/4f/9a/ab96291470e305504aa4b7a2e0ec132e930da89eb3ca7a82fbe03167c131/jsonlines-1.2.0-py2.py3-none-any.whl\n",
            "Requirement already satisfied: six in /usr/local/lib/python3.6/dist-packages (from jsonlines) (1.12.0)\n",
            "Installing collected packages: jsonlines\n",
            "Successfully installed jsonlines-1.2.0\n"
          ],
          "name": "stdout"
        }
      ]
    },
    {
      "cell_type": "markdown",
      "metadata": {
        "id": "94SzPp-ZCz-c",
        "colab_type": "text"
      },
      "source": [
        "Preprocessing on text"
      ]
    },
    {
      "cell_type": "code",
      "metadata": {
        "id": "YLCnUwKJ-XSD",
        "colab_type": "code",
        "colab": {}
      },
      "source": [
        "def text_clean(text):\n",
        "  text=text.lower()\n",
        "  texty=word_tokenize(text)\n",
        "  texty=[word for word in texty if not word in stop_words]\n",
        "  for i in range(len(texty)):\n",
        "    texty[i]=pst.stem(texty[i])\n",
        "  sen = (\" \").join(texty)\n",
        "  sen=re.sub('[^a-zA-Z]',' ', sen)\n",
        "  sen = re.sub(r\"\\s+[a-zA-Z]\\s+\",' ', sen)\n",
        "  sen = re.sub(r'\\s+', ' ', sen)\n",
        "  #stop_tokens=[word for words in ]\n",
        "  return str(sen)"
      ],
      "execution_count": 0,
      "outputs": []
    },
    {
      "cell_type": "code",
      "metadata": {
        "id": "mc8SzGeKI07V",
        "colab_type": "code",
        "outputId": "c69baefa-5ff4-4c54-ecca-19cf61d24237",
        "colab": {
          "base_uri": "https://localhost:8080/",
          "height": 52
        }
      },
      "source": [
        "chstr=text_clean('A dark-haired drummer is playing his set with enthusiasm.')\n",
        "print(chstr)\n",
        "print(word_tokenize(chstr))"
      ],
      "execution_count": 0,
      "outputs": [
        {
          "output_type": "stream",
          "text": [
            "dark hair drummer play set enthusiasm \n",
            "['dark', 'hair', 'drummer', 'play', 'set', 'enthusiasm']\n"
          ],
          "name": "stdout"
        }
      ]
    },
    {
      "cell_type": "markdown",
      "metadata": {
        "id": "5vRLRYtnCwkv",
        "colab_type": "text"
      },
      "source": [
        "Reading data from SNLI dataset"
      ]
    },
    {
      "cell_type": "code",
      "metadata": {
        "id": "3Qqe3Rzu8lTv",
        "colab_type": "code",
        "colab": {}
      },
      "source": [
        "s1,s2,label=[],[],[]\n",
        "Labels = ['contradiction','neutral','entailment','-']\n",
        "def data_read(): \n",
        "  s1.clear()\n",
        "  s2.clear()\n",
        "  label.clear()\n",
        "  str_dev='/content/drive/My Drive/Colab Notebooks/Datasets/proj3/snli_1.0_dev.jsonl'\n",
        "  str_train='/content/drive/My Drive/Colab Notebooks/Datasets/proj3/snli_1.0_train.jsonl'\n",
        "    \n",
        "  with jsonlines.open(str_train) as td:\n",
        "    for line in td.iter():\n",
        "      #print(line['sentence1']+'\\n',line['sentence2']+'\\n',line['gold_label'])\n",
        "      s1.append(text_clean(line['sentence1']))\n",
        "      s2.append(text_clean(line['sentence2']))\n",
        "      label.append(Labels.index(line['gold_label'].lower()))\n",
        "      #label.append(line['gold_label'].lower())\n",
        "data_read()\n",
        "label=np.array(label)   "
      ],
      "execution_count": 0,
      "outputs": []
    },
    {
      "cell_type": "code",
      "metadata": {
        "id": "3OGV5IIvWT0F",
        "colab_type": "code",
        "outputId": "933e2731-bdeb-40d4-8171-5d4a04990412",
        "colab": {
          "base_uri": "https://localhost:8080/",
          "height": 52
        }
      },
      "source": [
        "word_s1 = lambda s1: len(word_tokenize(s1))\n",
        "word_s2 = lambda s2: len(word_tokenize(s2))\n",
        "print(len(max(s1, key=word_s1)))\n",
        "print(len(max(s1, key=word_s2)))"
      ],
      "execution_count": 0,
      "outputs": [
        {
          "output_type": "stream",
          "text": [
            "241\n",
            "241\n"
          ],
          "name": "stdout"
        }
      ]
    },
    {
      "cell_type": "code",
      "metadata": {
        "id": "_8etW_CQUS6L",
        "colab_type": "code",
        "outputId": "cb5b2ab9-6fb8-4e83-8f08-21261c79d263",
        "colab": {
          "base_uri": "https://localhost:8080/",
          "height": 139
        }
      },
      "source": [
        "for i in range(606,609):\n",
        "  print(s1[i],\"   \",s2[i])\n",
        "  print(label[i])\n",
        "print(len(s1),len(label))"
      ],
      "execution_count": 0,
      "outputs": [
        {
          "output_type": "stream",
          "text": [
            "three guy girl jump pool togeth      peopl climb water \n",
            "0\n",
            "three guy girl jump pool togeth      peopl jump bodi water \n",
            "2\n",
            "three guy girl jump pool togeth      peopl friend \n",
            "1\n",
            "550152 550152\n"
          ],
          "name": "stdout"
        }
      ]
    },
    {
      "cell_type": "markdown",
      "metadata": {
        "id": "AKsHmAGyWr6f",
        "colab_type": "text"
      },
      "source": [
        "Preparing data for training and validation"
      ]
    },
    {
      "cell_type": "code",
      "metadata": {
        "id": "PupHmZwusWGD",
        "colab_type": "code",
        "colab": {}
      },
      "source": [
        "max_seq=35\n",
        "max_word_keep=180000\n",
        "valid_split=0.07"
      ],
      "execution_count": 0,
      "outputs": []
    },
    {
      "cell_type": "code",
      "metadata": {
        "id": "2RUt9dTwfZ4F",
        "colab_type": "code",
        "colab": {}
      },
      "source": [
        "tokens=Tokenizer(num_words=max_word_keep)\n",
        "tokens.fit_on_texts(s1+s2)\n",
        "voc_size = len(tokens.word_index) + 1\n",
        "seq1=tokens.texts_to_sequences(s1)\n",
        "seq2=tokens.texts_to_sequences(s2)\n",
        "xs1=pad_sequences(seq1,maxlen=max_seq)\n",
        "xs2=pad_sequences(seq2,maxlen=max_seq)"
      ],
      "execution_count": 0,
      "outputs": []
    },
    {
      "cell_type": "code",
      "metadata": {
        "id": "xyB8Smx2zL_K",
        "colab_type": "code",
        "colab": {}
      },
      "source": [
        "pickle.dump(tokens, open(\"tokens_180.lstm\", \"wb\"))"
      ],
      "execution_count": 0,
      "outputs": []
    },
    {
      "cell_type": "code",
      "metadata": {
        "id": "4ZR51WIY4ik9",
        "colab_type": "code",
        "outputId": "fd6b566b-c1dc-4c8e-e85e-6f9db966a2f8",
        "colab": {
          "base_uri": "https://localhost:8080/",
          "height": 86
        }
      },
      "source": [
        "word_s1 = lambda s1: len(seq1)\n",
        "word_s2 = lambda s2: len(seq2)\n",
        "print(len(max(seq1, key=word_s1)))\n",
        "print(len(max(seq2, key=word_s2)))\n",
        "print(xs1.shape)\n",
        "print(voc_size)"
      ],
      "execution_count": 0,
      "outputs": [
        {
          "output_type": "stream",
          "text": [
            "5\n",
            "4\n",
            "(550152, 35)\n",
            "21871\n"
          ],
          "name": "stdout"
        }
      ]
    },
    {
      "cell_type": "code",
      "metadata": {
        "id": "cOg6zq_CqSuc",
        "colab_type": "code",
        "outputId": "0a7a1b8c-5bd7-43a0-b086-a95f156f42d5",
        "colab": {
          "base_uri": "https://localhost:8080/",
          "height": 34
        }
      },
      "source": [
        "permute = np.random.permutation(len(xs1))\n",
        "#print(perm)\n",
        "amount=int(len(xs1)*(1-valid_split))\n",
        "print(amount)\n",
        "train_id=permute[:amount]\n",
        "val_id=permute[amount:]\n",
        "#print(train_id)\n",
        "xs1_train=xs1[train_id]\n",
        "xs1_val=xs1[val_id]\n",
        "xs2_train=xs2[train_id]\n",
        "xs2_val=xs2[val_id]\n",
        "ytrain=label[train_id]\n",
        "yval=label[val_id]"
      ],
      "execution_count": 0,
      "outputs": [
        {
          "output_type": "stream",
          "text": [
            "511641\n"
          ],
          "name": "stdout"
        }
      ]
    },
    {
      "cell_type": "markdown",
      "metadata": {
        "id": "CHESHraY9z8Y",
        "colab_type": "text"
      },
      "source": [
        "Embeddings matrix generation"
      ]
    },
    {
      "cell_type": "code",
      "metadata": {
        "id": "daQRV7am5wPO",
        "colab_type": "code",
        "colab": {}
      },
      "source": [
        "embed=dict()\n",
        "glove_100='/content/drive/My Drive/Colab Notebooks/Library/glove.6B.100d.txt'\n",
        "glove_300='/content/drive/My Drive/Colab Notebooks/Library/glove.6B.300d.txt'\n",
        "dim=300\n",
        "glove=open(glove_300,encoding=\"utf8\")\n",
        "for line in glove:\n",
        "    rows = line.split()\n",
        "    word = rows[0]\n",
        "    vec = np.asarray(rows[1:], dtype='float32')\n",
        "    embed[word] = vec\n",
        "glove.close()"
      ],
      "execution_count": 0,
      "outputs": []
    },
    {
      "cell_type": "code",
      "metadata": {
        "id": "NG61Evw_6hhY",
        "colab_type": "code",
        "colab": {}
      },
      "source": [
        "embed_mat = np.zeros((voc_size, dim))\n",
        "for word, i in tokens.word_index.items():\n",
        "    embed_vec = embed.get(word)\n",
        "    if embed_vec is not None:\n",
        "        embed_mat[i] = embed_vec"
      ],
      "execution_count": 0,
      "outputs": []
    },
    {
      "cell_type": "markdown",
      "metadata": {
        "id": "esyc1lcjoAHt",
        "colab_type": "text"
      },
      "source": [
        "Training model"
      ]
    },
    {
      "cell_type": "code",
      "metadata": {
        "id": "eU3c-n307Its",
        "colab_type": "code",
        "outputId": "fc5decd9-61b3-42f4-cba8-4713c10a1546",
        "colab": {
          "base_uri": "https://localhost:8080/",
          "height": 86
        }
      },
      "source": [
        "print(xs1_train.shape)\n",
        "print(ytrain.shape)\n",
        "print(embed_mat.shape)\n",
        "print(voc_size)"
      ],
      "execution_count": 0,
      "outputs": [
        {
          "output_type": "stream",
          "text": [
            "(511641, 35)\n",
            "(511641,)\n",
            "(21871, 300)\n",
            "21871\n"
          ],
          "name": "stdout"
        }
      ]
    },
    {
      "cell_type": "code",
      "metadata": {
        "id": "60vbq2rq8ABC",
        "colab_type": "code",
        "colab": {}
      },
      "source": [
        "def lstm_model(embed_mat,out_class,num_dense):\n",
        "  s1_input=Input(shape=(max_seq,),dtype='int32')\n",
        "  s2_input=Input(shape=(max_seq,),dtype='int32')\n",
        "\n",
        "  input_dim,output_dim=embed_mat.shape\n",
        "  embed=Embedding(input_dim,output_dim,weights=[embed_mat],trainable=False)\n",
        "  embed_s1=embed(s1_input)\n",
        "  embed_s2=embed(s2_input)\n",
        "  first_drop=0.22\n",
        "  rec_drop=0.178\n",
        "  lstm=LSTM(num_dense, dropout=rec_drop, recurrent_dropout=rec_drop)\n",
        "  \n",
        "  f1=lstm(embed_s1)\n",
        "  f2=lstm(embed_s2)\n",
        "\n",
        "  sumx=concatenate([f1, f2])\n",
        "  sumx=Dropout(first_drop)(sumx)\n",
        "  sumx=BatchNormalization()(sumx)\n",
        "  sumx=Dense(num_dense,activation='relu')(sumx)\n",
        "  sumx=Dropout(first_drop)(sumx)\n",
        "  sumx=BatchNormalization()(sumx)\n",
        "  \n",
        " \n",
        "  pred=Dense(out_class,activation='softmax')(sumx)\n",
        "  model = Model(inputs=[s1_input,s2_input],outputs=pred)\n",
        "  return model"
      ],
      "execution_count": 0,
      "outputs": []
    },
    {
      "cell_type": "code",
      "metadata": {
        "id": "5OtN8Uw58ccs",
        "colab_type": "code",
        "outputId": "0ffae3f8-efd9-4075-fff8-8fb38140d8ee",
        "colab": {
          "base_uri": "https://localhost:8080/",
          "height": 607
        }
      },
      "source": [
        "num_class=len(Labels)\n",
        "num_epoch=60\n",
        "batch_size=1024\n",
        "num_dense=312\n",
        "ytrain_arr=to_categorical(ytrain,num_class)\n",
        "yval_arr=to_categorical(yval,num_class)\n",
        "\n",
        "model=lstm_model(embed_mat=embed_mat,out_class=num_class,num_dense=num_dense)\n",
        "opt=Adam(lr=0.001, beta_1=0.9, beta_2=0.999, amsgrad=False)\n",
        "model.compile(loss='categorical_crossentropy',optimizer=opt,metrics=['acc'])\n",
        "print(model.summary())"
      ],
      "execution_count": 0,
      "outputs": [
        {
          "output_type": "stream",
          "text": [
            "Model: \"model_4\"\n",
            "__________________________________________________________________________________________________\n",
            "Layer (type)                    Output Shape         Param #     Connected to                     \n",
            "==================================================================================================\n",
            "input_7 (InputLayer)            (None, 35)           0                                            \n",
            "__________________________________________________________________________________________________\n",
            "input_8 (InputLayer)            (None, 35)           0                                            \n",
            "__________________________________________________________________________________________________\n",
            "embedding_4 (Embedding)         (None, 35, 300)      6561300     input_7[0][0]                    \n",
            "                                                                 input_8[0][0]                    \n",
            "__________________________________________________________________________________________________\n",
            "lstm_4 (LSTM)                   (None, 312)          765024      embedding_4[0][0]                \n",
            "                                                                 embedding_4[1][0]                \n",
            "__________________________________________________________________________________________________\n",
            "concatenate_4 (Concatenate)     (None, 624)          0           lstm_4[0][0]                     \n",
            "                                                                 lstm_4[1][0]                     \n",
            "__________________________________________________________________________________________________\n",
            "dropout_7 (Dropout)             (None, 624)          0           concatenate_4[0][0]              \n",
            "__________________________________________________________________________________________________\n",
            "batch_normalization_7 (BatchNor (None, 624)          2496        dropout_7[0][0]                  \n",
            "__________________________________________________________________________________________________\n",
            "dense_7 (Dense)                 (None, 312)          195000      batch_normalization_7[0][0]      \n",
            "__________________________________________________________________________________________________\n",
            "dropout_8 (Dropout)             (None, 312)          0           dense_7[0][0]                    \n",
            "__________________________________________________________________________________________________\n",
            "batch_normalization_8 (BatchNor (None, 312)          1248        dropout_8[0][0]                  \n",
            "__________________________________________________________________________________________________\n",
            "dense_8 (Dense)                 (None, 4)            1252        batch_normalization_8[0][0]      \n",
            "==================================================================================================\n",
            "Total params: 7,526,320\n",
            "Trainable params: 963,148\n",
            "Non-trainable params: 6,563,172\n",
            "__________________________________________________________________________________________________\n",
            "None\n"
          ],
          "name": "stdout"
        }
      ]
    },
    {
      "cell_type": "code",
      "metadata": {
        "id": "wRkIRwlu2cZ0",
        "colab_type": "code",
        "outputId": "6fab174e-6cf7-41e8-9194-473c08161c7f",
        "colab": {
          "base_uri": "https://localhost:8080/",
          "height": 1000
        }
      },
      "source": [
        "early_stop = EarlyStopping(monitor='val_loss', patience=10)\n",
        "history=model.fit([xs1_train, xs2_train],ytrain_arr,validation_data=([xs1_val, xs2_val],yval_arr),epochs=num_epoch,batch_size=batch_size,verbose=1,callbacks=[early_stop])\n",
        "model.save('lstm_312_keep.h5')"
      ],
      "execution_count": 0,
      "outputs": [
        {
          "output_type": "stream",
          "text": [
            "Train on 511641 samples, validate on 38511 samples\n",
            "Epoch 1/60\n",
            "511641/511641 [==============================] - 92s 180us/step - loss: 0.9624 - acc: 0.5669 - val_loss: 0.7991 - val_acc: 0.6497\n",
            "Epoch 2/60\n",
            "511641/511641 [==============================] - 92s 180us/step - loss: 0.8080 - acc: 0.6433 - val_loss: 0.7587 - val_acc: 0.6712\n",
            "Epoch 3/60\n",
            "511641/511641 [==============================] - 92s 180us/step - loss: 0.7607 - acc: 0.6712 - val_loss: 0.7233 - val_acc: 0.6908\n",
            "Epoch 4/60\n",
            "511641/511641 [==============================] - 93s 182us/step - loss: 0.7325 - acc: 0.6857 - val_loss: 0.6978 - val_acc: 0.7062\n",
            "Epoch 5/60\n",
            "511641/511641 [==============================] - 95s 186us/step - loss: 0.7123 - acc: 0.6978 - val_loss: 0.6899 - val_acc: 0.7089\n",
            "Epoch 6/60\n",
            "511641/511641 [==============================] - 96s 188us/step - loss: 0.6952 - acc: 0.7072 - val_loss: 0.6795 - val_acc: 0.7158\n",
            "Epoch 7/60\n",
            "511641/511641 [==============================] - 96s 188us/step - loss: 0.6807 - acc: 0.7147 - val_loss: 0.6642 - val_acc: 0.7227\n",
            "Epoch 8/60\n",
            "511641/511641 [==============================] - 95s 185us/step - loss: 0.6684 - acc: 0.7206 - val_loss: 0.6622 - val_acc: 0.7264\n",
            "Epoch 9/60\n",
            "511641/511641 [==============================] - 94s 183us/step - loss: 0.6577 - acc: 0.7259 - val_loss: 0.6616 - val_acc: 0.7239\n",
            "Epoch 10/60\n",
            "511641/511641 [==============================] - 95s 185us/step - loss: 0.6469 - acc: 0.7314 - val_loss: 0.6549 - val_acc: 0.7299\n",
            "Epoch 11/60\n",
            "511641/511641 [==============================] - 94s 184us/step - loss: 0.6386 - acc: 0.7347 - val_loss: 0.6602 - val_acc: 0.7252\n",
            "Epoch 12/60\n",
            "511641/511641 [==============================] - 95s 186us/step - loss: 0.6301 - acc: 0.7390 - val_loss: 0.6469 - val_acc: 0.7338\n",
            "Epoch 13/60\n",
            "511641/511641 [==============================] - 95s 186us/step - loss: 0.6227 - acc: 0.7423 - val_loss: 0.6501 - val_acc: 0.7308\n",
            "Epoch 14/60\n",
            "511641/511641 [==============================] - 94s 183us/step - loss: 0.6166 - acc: 0.7456 - val_loss: 0.6495 - val_acc: 0.7335\n",
            "Epoch 15/60\n",
            "511641/511641 [==============================] - 94s 184us/step - loss: 0.6109 - acc: 0.7477 - val_loss: 0.6478 - val_acc: 0.7355\n",
            "Epoch 16/60\n",
            "511641/511641 [==============================] - 93s 181us/step - loss: 0.6047 - acc: 0.7512 - val_loss: 0.6453 - val_acc: 0.7375\n",
            "Epoch 17/60\n",
            "511641/511641 [==============================] - 93s 182us/step - loss: 0.5994 - acc: 0.7529 - val_loss: 0.6470 - val_acc: 0.7350\n",
            "Epoch 18/60\n",
            "511641/511641 [==============================] - 93s 181us/step - loss: 0.5941 - acc: 0.7556 - val_loss: 0.6499 - val_acc: 0.7352\n",
            "Epoch 19/60\n",
            "511641/511641 [==============================] - 94s 183us/step - loss: 0.5899 - acc: 0.7578 - val_loss: 0.6437 - val_acc: 0.7375\n",
            "Epoch 20/60\n",
            "511641/511641 [==============================] - 93s 183us/step - loss: 0.5857 - acc: 0.7593 - val_loss: 0.6457 - val_acc: 0.7370\n",
            "Epoch 21/60\n",
            "511641/511641 [==============================] - 93s 182us/step - loss: 0.5815 - acc: 0.7612 - val_loss: 0.6476 - val_acc: 0.7348\n",
            "Epoch 22/60\n",
            "511641/511641 [==============================] - 93s 181us/step - loss: 0.5786 - acc: 0.7628 - val_loss: 0.6452 - val_acc: 0.7380\n",
            "Epoch 23/60\n",
            "511641/511641 [==============================] - 94s 183us/step - loss: 0.5734 - acc: 0.7653 - val_loss: 0.6471 - val_acc: 0.7366\n",
            "Epoch 24/60\n",
            "511641/511641 [==============================] - 95s 185us/step - loss: 0.5706 - acc: 0.7665 - val_loss: 0.6484 - val_acc: 0.7376\n",
            "Epoch 25/60\n",
            "511641/511641 [==============================] - 97s 190us/step - loss: 0.5671 - acc: 0.7678 - val_loss: 0.6492 - val_acc: 0.7363\n",
            "Epoch 26/60\n",
            "511641/511641 [==============================] - 95s 186us/step - loss: 0.5641 - acc: 0.7695 - val_loss: 0.6445 - val_acc: 0.7391\n",
            "Epoch 27/60\n",
            "511641/511641 [==============================] - 95s 186us/step - loss: 0.5616 - acc: 0.7704 - val_loss: 0.6457 - val_acc: 0.7392\n",
            "Epoch 28/60\n",
            "511641/511641 [==============================] - 94s 184us/step - loss: 0.5573 - acc: 0.7720 - val_loss: 0.6491 - val_acc: 0.7395\n",
            "Epoch 29/60\n",
            "511641/511641 [==============================] - 94s 185us/step - loss: 0.5559 - acc: 0.7726 - val_loss: 0.6535 - val_acc: 0.7389\n"
          ],
          "name": "stdout"
        }
      ]
    },
    {
      "cell_type": "code",
      "metadata": {
        "id": "sZKRgrWBEUE4",
        "colab_type": "code",
        "colab": {}
      },
      "source": [
        "def plotting(history,name):\n",
        "    plt.plot(history.history['loss'])\n",
        "    plt.plot(history.history['val_loss'])\n",
        "    plt.title('LSTM Model loss')\n",
        "    plt.ylabel('Loss')\n",
        "    plt.xlabel('Epoch '+str(num_epoch))\n",
        "    plt.legend(['train', 'val'], loc='upper right')\n",
        "    plt.savefig(name)\n",
        "    plt.show()"
      ],
      "execution_count": 0,
      "outputs": []
    },
    {
      "cell_type": "code",
      "metadata": {
        "id": "Vx7KCeZFF5cr",
        "colab_type": "code",
        "outputId": "7caa600e-44d9-4cfe-db24-3a683a30fb45",
        "colab": {
          "base_uri": "https://localhost:8080/",
          "height": 295
        }
      },
      "source": [
        "plotting(history,\"lstm_plot_312_keep.png\")"
      ],
      "execution_count": 0,
      "outputs": [
        {
          "output_type": "display_data",
          "data": {
            "image/png": "[encoded data removed]",
            "text/plain": [
              "<Figure size 432x288 with 1 Axes>"
            ]
          },
          "metadata": {
            "tags": []
          }
        }
      ]
    },
    {
      "cell_type": "markdown",
      "metadata": {
        "id": "vZNlmfPM7IJE",
        "colab_type": "text"
      },
      "source": [
        "Testing the model on test set"
      ]
    },
    {
      "cell_type": "code",
      "metadata": {
        "id": "bMrLtP8S8r_k",
        "colab_type": "code",
        "colab": {}
      },
      "source": [
        "str_model='lstm_312_keep.h5'\n",
        "model_test=load_model(str_model)"
      ],
      "execution_count": 0,
      "outputs": []
    },
    {
      "cell_type": "code",
      "metadata": {
        "id": "o48vpYEI5DLt",
        "colab_type": "code",
        "colab": {}
      },
      "source": [
        "tokens=tokens=pickle.load(open('tokens.lstm','rb'))"
      ],
      "execution_count": 0,
      "outputs": []
    },
    {
      "cell_type": "code",
      "metadata": {
        "id": "zrIn1n1Y6A7i",
        "colab_type": "code",
        "colab": {}
      },
      "source": [
        "str_test='/content/drive/My Drive/Colab Notebooks/Datasets/proj3/snli_1.0_test.jsonl'\n",
        "Labels = ['contradiction','neutral','entailment','-']\n",
        "s1_test,s2_test,label_test=[],[],[]\n",
        "with jsonlines.open(str_test) as td:\n",
        "    for line in td.iter():\n",
        "      #print(line['sentence1']+'\\n',line['sentence2']+'\\n',line['gold_label'])\n",
        "      s1_test.append(text_clean(line['sentence1']))\n",
        "      s2_test.append(text_clean(line['sentence2']))\n",
        "      label_test.append(Labels.index(line['gold_label'].lower()))\n",
        "      #label.append(line['gold_label'].lower())\n",
        "label_test=np.array(label_test)   "
      ],
      "execution_count": 0,
      "outputs": []
    },
    {
      "cell_type": "code",
      "metadata": {
        "id": "btpblJFJ7Het",
        "colab_type": "code",
        "colab": {}
      },
      "source": [
        "seq1_test=tokens.texts_to_sequences(s1_test)\n",
        "seq2_test=tokens.texts_to_sequences(s2_test)\n",
        "xs1_test=pad_sequences(seq1_test,maxlen=max_seq)\n",
        "xs2_test=pad_sequences(seq2_test,maxlen=max_seq)"
      ],
      "execution_count": 0,
      "outputs": []
    },
    {
      "cell_type": "code",
      "metadata": {
        "id": "s5kedT9V7mjC",
        "colab_type": "code",
        "colab": {}
      },
      "source": [
        "num_class=len(Labels)\n",
        "ytest_arr=to_categorical(label_test,num_class)"
      ],
      "execution_count": 0,
      "outputs": []
    },
    {
      "cell_type": "code",
      "metadata": {
        "id": "mdAwN594714C",
        "colab_type": "code",
        "outputId": "8797b90f-1fd7-403f-f22f-544884d03545",
        "colab": {
          "base_uri": "https://localhost:8080/",
          "height": 52
        }
      },
      "source": [
        "perf = model_test.evaluate([xs1_test, xs2_test], ytest_arr, verbose=1)\n",
        "print(\"Test Accuracy:\", perf[1])"
      ],
      "execution_count": 0,
      "outputs": [
        {
          "output_type": "stream",
          "text": [
            "10000/10000 [==============================] - 23s 2ms/step\n",
            "Test Accuracy: 0.7435\n"
          ],
          "name": "stdout"
        }
      ]
    },
    {
      "cell_type": "code",
      "metadata": {
        "id": "HHUuoWcE4a0_",
        "colab_type": "code",
        "colab": {}
      },
      "source": [
        "yout=model_test.predict([xs1_test, xs2_test])"
      ],
      "execution_count": 0,
      "outputs": []
    },
    {
      "cell_type": "code",
      "metadata": {
        "id": "J-2paEo252fR",
        "colab_type": "code",
        "outputId": "f307081a-1b15-4560-bf45-65032de08cee",
        "colab": {
          "base_uri": "https://localhost:8080/",
          "height": 34
        }
      },
      "source": [
        "yout.shape"
      ],
      "execution_count": 0,
      "outputs": [
        {
          "output_type": "execute_result",
          "data": {
            "text/plain": [
              "(10000, 4)"
            ]
          },
          "metadata": {
            "tags": []
          },
          "execution_count": 52
        }
      ]
    },
    {
      "cell_type": "code",
      "metadata": {
        "id": "SRCRncKU6ZrM",
        "colab_type": "code",
        "colab": {}
      },
      "source": [
        "yout=np.argmax(yout,axis=1)"
      ],
      "execution_count": 0,
      "outputs": []
    },
    {
      "cell_type": "code",
      "metadata": {
        "id": "o5YADK1O6fUU",
        "colab_type": "code",
        "outputId": "185b3114-a1ef-44a7-ae90-ebfcfd402acc",
        "colab": {
          "base_uri": "https://localhost:8080/",
          "height": 34
        }
      },
      "source": [
        "print(yout.shape)"
      ],
      "execution_count": 0,
      "outputs": [
        {
          "output_type": "stream",
          "text": [
            "(10000,)\n"
          ],
          "name": "stdout"
        }
      ]
    },
    {
      "cell_type": "code",
      "metadata": {
        "id": "LvHZppW-6h_N",
        "colab_type": "code",
        "colab": {}
      },
      "source": [
        "fp=open(\"deep_model.txt\",\"w\")\n",
        "for line in yout:\n",
        "    fp.write(Labels[line]+\"\\n\")\n",
        "fp.close()"
      ],
      "execution_count": 0,
      "outputs": []
    }
  ]
}